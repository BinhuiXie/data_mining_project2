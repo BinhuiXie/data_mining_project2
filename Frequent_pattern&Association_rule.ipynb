{
 "cells": [
  {
   "cell_type": "markdown",
   "metadata": {},
   "source": [
    "# Frequent pattern and association rule mining"
   ]
  },
  {
   "cell_type": "markdown",
   "metadata": {},
   "source": [
    "## Dataset \n",
    "- [Oakland Crime Statistics 2011 to 2016](https://www.kaggle.com/cityofoakland/oakland-crime-statistics-2011-to-2016)\n",
    "\n",
    "这个数据集由2011年至2016年的奥克兰犯罪统计数据组成。"
   ]
  },
  {
   "cell_type": "markdown",
   "metadata": {},
   "source": [
    "## Data analysis requirements"
   ]
  },
  {
   "cell_type": "markdown",
   "metadata": {},
   "source": [
    "### 1. Data pre-process"
   ]
  },
  {
   "cell_type": "code",
   "execution_count": 1,
   "metadata": {},
   "outputs": [
    {
     "name": "stdout",
     "output_type": "stream",
     "text": [
      "2011:\n",
      "<class 'pandas.core.frame.DataFrame'>\n",
      "RangeIndex: 180016 entries, 0 to 180015\n",
      "Data columns (total 10 columns):\n",
      " #   Column                     Non-Null Count   Dtype  \n",
      "---  ------                     --------------   -----  \n",
      " 0   Agency                     180015 non-null  object \n",
      " 1   Create Time                180015 non-null  object \n",
      " 2   Location                   180016 non-null  object \n",
      " 3   Area Id                    179112 non-null  float64\n",
      " 4   Beat                       179496 non-null  object \n",
      " 5   Priority                   180015 non-null  float64\n",
      " 6   Incident Type Id           180015 non-null  object \n",
      " 7   Incident Type Description  180015 non-null  object \n",
      " 8   Event Number               180015 non-null  object \n",
      " 9   Closed Time                180009 non-null  object \n",
      "dtypes: float64(2), object(8)\n",
      "memory usage: 13.7+ MB\n",
      "2012:\n",
      "<class 'pandas.core.frame.DataFrame'>\n",
      "RangeIndex: 187431 entries, 0 to 187430\n",
      "Data columns (total 11 columns):\n",
      " #   Column                     Non-Null Count   Dtype  \n",
      "---  ------                     --------------   -----  \n",
      " 0   Agency                     187430 non-null  object \n",
      " 1   Create Time                187430 non-null  object \n",
      " 2   Area Id                    186016 non-null  float64\n",
      " 3   Beat                       186447 non-null  object \n",
      " 4   Priority                   187430 non-null  float64\n",
      " 5   Incident Type Id           187430 non-null  object \n",
      " 6   Incident Type Description  187430 non-null  object \n",
      " 7   Event Number               187430 non-null  object \n",
      " 8   Closed Time                187412 non-null  object \n",
      " 9   Location 1                 187361 non-null  object \n",
      " 10  Zip Codes                  175 non-null     float64\n",
      "dtypes: float64(3), object(8)\n",
      "memory usage: 15.7+ MB\n",
      "2013:\n",
      "<class 'pandas.core.frame.DataFrame'>\n",
      "RangeIndex: 188052 entries, 0 to 188051\n",
      "Data columns (total 10 columns):\n",
      " #   Column                     Non-Null Count   Dtype  \n",
      "---  ------                     --------------   -----  \n",
      " 0   Agency                     188051 non-null  object \n",
      " 1   Create Time                188051 non-null  object \n",
      " 2   Location                   188052 non-null  object \n",
      " 3   Area Id                    185794 non-null  float64\n",
      " 4   Beat                       186874 non-null  object \n",
      " 5   Priority                   188051 non-null  float64\n",
      " 6   Incident Type Id           188051 non-null  object \n",
      " 7   Incident Type Description  188047 non-null  object \n",
      " 8   Event Number               188051 non-null  object \n",
      " 9   Closed Time                188050 non-null  object \n",
      "dtypes: float64(2), object(8)\n",
      "memory usage: 14.3+ MB\n",
      "2014:\n",
      "<class 'pandas.core.frame.DataFrame'>\n",
      "RangeIndex: 187480 entries, 0 to 187479\n",
      "Data columns (total 11 columns):\n",
      " #   Column                     Non-Null Count   Dtype  \n",
      "---  ------                     --------------   -----  \n",
      " 0   Agency                     187480 non-null  object \n",
      " 1   Create Time                187480 non-null  object \n",
      " 2   Area Id                    9693 non-null    float64\n",
      " 3   Beat                       186263 non-null  object \n",
      " 4   Priority                   187480 non-null  int64  \n",
      " 5   Incident Type Id           187480 non-null  object \n",
      " 6   Incident Type Description  187339 non-null  object \n",
      " 7   Event Number               187480 non-null  object \n",
      " 8   Closed Time                187480 non-null  object \n",
      " 9   Location 1                 187438 non-null  object \n",
      " 10  Zip Codes                  177 non-null     float64\n",
      "dtypes: float64(2), int64(1), object(8)\n",
      "memory usage: 15.7+ MB\n",
      "2015:\n",
      "<class 'pandas.core.frame.DataFrame'>\n",
      "RangeIndex: 192581 entries, 0 to 192580\n",
      "Data columns (total 10 columns):\n",
      " #   Column                     Non-Null Count   Dtype \n",
      "---  ------                     --------------   ----- \n",
      " 0   Agency                     192581 non-null  object\n",
      " 1   Create Time                192581 non-null  object\n",
      " 2   Location                   192581 non-null  object\n",
      " 3   Area Id                    192581 non-null  object\n",
      " 4   Beat                       191256 non-null  object\n",
      " 5   Priority                   192581 non-null  int64 \n",
      " 6   Incident Type Id           192581 non-null  object\n",
      " 7   Incident Type Description  192338 non-null  object\n",
      " 8   Event Number               192581 non-null  object\n",
      " 9   Closed Time                192581 non-null  object\n",
      "dtypes: int64(1), object(9)\n",
      "memory usage: 14.7+ MB\n",
      "2016:\n",
      "<class 'pandas.core.frame.DataFrame'>\n",
      "RangeIndex: 110828 entries, 0 to 110827\n",
      "Data columns (total 10 columns):\n",
      " #   Column                     Non-Null Count   Dtype  \n",
      "---  ------                     --------------   -----  \n",
      " 0   Agency                     110827 non-null  object \n",
      " 1   Create Time                110827 non-null  object \n",
      " 2   Location                   110828 non-null  object \n",
      " 3   Area Id                    110827 non-null  object \n",
      " 4   Beat                       110247 non-null  object \n",
      " 5   Priority                   110827 non-null  float64\n",
      " 6   Incident Type Id           110827 non-null  object \n",
      " 7   Incident Type Description  110827 non-null  object \n",
      " 8   Event Number               110827 non-null  object \n",
      " 9   Closed Time                110827 non-null  object \n",
      "dtypes: float64(1), object(9)\n",
      "memory usage: 8.5+ MB\n"
     ]
    }
   ],
   "source": [
    "import os\n",
    "import time\n",
    "import json\n",
    "import pandas as pd\n",
    "import numpy as np\n",
    "import matplotlib.pyplot as plt\n",
    "from progressbar import *\n",
    "from mpl_toolkits.mplot3d import Axes3D\n",
    "\n",
    "# timekeeping\n",
    "timekeeping = time.time()\n",
    "\n",
    "# load csv file\n",
    "data2011 = pd.read_csv('../Oakland-Crime-Statistics-2011-to-2016/records-for-2011.csv')\n",
    "data2012 = pd.read_csv('../Oakland-Crime-Statistics-2011-to-2016/records-for-2012.csv')\n",
    "data2013 = pd.read_csv('../Oakland-Crime-Statistics-2011-to-2016/records-for-2013.csv')\n",
    "data2014 = pd.read_csv('../Oakland-Crime-Statistics-2011-to-2016/records-for-2014.csv')\n",
    "data2015 = pd.read_csv('../Oakland-Crime-Statistics-2011-to-2016/records-for-2015.csv')\n",
    "data2016 = pd.read_csv('../Oakland-Crime-Statistics-2011-to-2016/records-for-2016.csv')\n",
    "\n",
    "# descriptors of the raw datase\n",
    "print('2011:')\n",
    "data2011.info()\n",
    "print('2012:')\n",
    "data2012.info()\n",
    "print('2013:')\n",
    "data2013.info()\n",
    "print('2014:')\n",
    "data2014.info()\n",
    "print('2015:')\n",
    "data2015.info()\n",
    "print('2016:')\n",
    "data2016.info()"
   ]
  },
  {
   "cell_type": "markdown",
   "metadata": {},
   "source": [
    "这6年的数据集中共包括10个共同的属性：``Agency``、 ``Create Time``、 ``Location`` (``Location 1`` and ``Location ``)、 ``Area Id``、 ``Beat``、 ``Priority``、 ``Incident Type Id``、 ``Incident Type Description``、 ``Event Number ``、 ``Closed Time ``"
   ]
  },
  {
   "cell_type": "markdown",
   "metadata": {},
   "source": [
    "另外，只有2012和2014年的数据中包括了``Zip Codes``属性，且缺失值非常多，所以在频繁模式与关联规则挖掘过程中去掉该属性，然后把2012和2014年的数据中属性字段``Location 1``改为统一的字段``Location``。这里2013年的字段``Location ``多出来一个空格，也需要将该字段统一"
   ]
  },
  {
   "cell_type": "code",
   "execution_count": 2,
   "metadata": {},
   "outputs": [],
   "source": [
    "# delete 'Zip Codes attribute \n",
    "data2012 = data2012.drop('Zip Codes', 1)\n",
    "data2014 = data2014.drop('Zip Codes', 1)\n",
    "\n",
    "# rename 'Location 1' with 'Location'\n",
    "data2012.rename(columns={'Location 1': 'Location'}, inplace = True)\n",
    "data2013.rename(columns={'Location ': 'Location'}, inplace=True)\n",
    "data2014.rename(columns={'Location 1': 'Location'}, inplace=True)"
   ]
  },
  {
   "cell_type": "code",
   "execution_count": 3,
   "metadata": {},
   "outputs": [
    {
     "name": "stdout",
     "output_type": "stream",
     "text": [
      "{'Agency': OP    180015\n",
      "Name: Agency, dtype: int64, 'Create Time': 2011-06-02T00:00:00.000    4\n",
      "2011-03-27T00:22:41.000    3\n",
      "2011-09-21T14:05:59.000    3\n",
      "2011-05-03T19:30:24.000    2\n",
      "2011-09-10T13:09:26.000    2\n",
      "                          ..\n",
      "2011-09-14T00:00:00.000    1\n",
      "2011-06-26T00:29:05.000    1\n",
      "2011-02-26T22:50:25.000    1\n",
      "2011-04-02T05:04:20.000    1\n",
      "2011-06-06T10:07:44.000    1\n",
      "Name: Create Time, Length: 179451, dtype: int64, 'Location':  INTERNATIONAL BLVD        3866\n",
      " MACARTHUR BLVD            3129\n",
      " AV&INTERNATIONAL BLVD     3067\n",
      " BROADWAY                  2132\n",
      " FOOTHILL BLVD             1791\n",
      "                           ... \n",
      "14TH WILLOW ST                1\n",
      "GRAND EARHART RD              1\n",
      "MACARTHUR AV&D ST             1\n",
      "REDWOOD PIEDMONT AV           1\n",
      "EDES ALICE ST                 1\n",
      "Name: Location, Length: 32505, dtype: int64, 'Area Id': 1.0    79152\n",
      "2.0    67261\n",
      "3.0    32699\n",
      "Name: Area Id, dtype: int64, 'Beat': 04X     7410\n",
      "08X     6885\n",
      "26Y     5478\n",
      "30Y     5295\n",
      "06X     5119\n",
      "23X     5051\n",
      "30X     4956\n",
      "19X     4955\n",
      "34X     4673\n",
      "29X     4483\n",
      "20X     4287\n",
      "27Y     4159\n",
      "07X     4134\n",
      "31Y     4082\n",
      "25X     4022\n",
      "35X     3880\n",
      "33X     3849\n",
      "03X     3819\n",
      "32X     3711\n",
      "27X     3703\n",
      "09X     3630\n",
      "21Y     3435\n",
      "32Y     3125\n",
      "22X     3061\n",
      "26X     2978\n",
      "02Y     2970\n",
      "10X     2967\n",
      "14X     2733\n",
      "03Y     2726\n",
      "22Y     2664\n",
      "12Y     2651\n",
      "05X     2633\n",
      "02X     2614\n",
      "31X     2603\n",
      "21X     2593\n",
      "17Y     2582\n",
      "24Y     2575\n",
      "13Z     2546\n",
      "15X     2509\n",
      "24X     2459\n",
      "12X     2422\n",
      "10Y     2383\n",
      "01X     2210\n",
      "28X     2191\n",
      "17X     2133\n",
      "11X     2087\n",
      "13Y     2017\n",
      "35Y     1956\n",
      "31Z     1870\n",
      "18Y     1778\n",
      "16Y     1561\n",
      "14Y     1492\n",
      "25Y     1482\n",
      "13X     1122\n",
      "18X     1063\n",
      "16X      994\n",
      "05Y      710\n",
      "PDT2      20\n",
      "Name: Beat, dtype: int64, 'Priority': 2.0    143314\n",
      "1.0     36699\n",
      "0.0         2\n",
      "Name: Priority, dtype: int64, 'Incident Type Id': 933R      17348\n",
      "911H      12817\n",
      "SECCK     11393\n",
      "415       10752\n",
      "10851      7180\n",
      "          ...  \n",
      "10801         1\n",
      "FLOOD         1\n",
      "963           1\n",
      "MTHLAB        1\n",
      "148           1\n",
      "Name: Incident Type Id, Length: 263, dtype: int64, 'Incident Type Description': ALARM-RINGER            17348\n",
      "911 HANG-UP             12817\n",
      "SECURITY CHECK          11393\n",
      "STOLEN VEHICLE           7180\n",
      "415 UNKNOWN              6624\n",
      "                        ...  \n",
      "INJURE TELEPHONE/POW        1\n",
      "LOCKOUT                     1\n",
      "ASSAULT ON A POLICE         1\n",
      "PLAYING BALL IN STRE        1\n",
      "OBSTRUCTING JUSTICE-        1\n",
      "Name: Incident Type Description, Length: 265, dtype: int64, 'Event Number': LOP110216000538    1\n",
      "LOP111003000732    1\n",
      "LOP111031000539    1\n",
      "LOP110531000847    1\n",
      "LOP110804001120    1\n",
      "                  ..\n",
      "LOP110302000970    1\n",
      "LOP111116000689    1\n",
      "LOP111007000035    1\n",
      "LOP110127000940    1\n",
      "LOP110228000936    1\n",
      "Name: Event Number, Length: 180015, dtype: int64, 'Closed Time': 2011-08-01T19:50:11.000    2\n",
      "2011-12-28T18:22:52.000    2\n",
      "2011-02-21T18:03:57.000    2\n",
      "2011-10-13T15:48:36.000    2\n",
      "2011-06-08T09:52:38.000    2\n",
      "                          ..\n",
      "2011-06-21T15:28:04.000    1\n",
      "2011-07-31T00:06:02.000    1\n",
      "2011-03-10T14:33:34.000    1\n",
      "2011-05-02T18:44:54.000    1\n",
      "2011-11-08T23:21:31.000    1\n",
      "Name: Closed Time, Length: 179506, dtype: int64}\n"
     ]
    }
   ],
   "source": [
    "data2011_frequency = {key: data2011[key].value_counts() for key in data2011.columns}\n",
    "print(data2011_frequency)"
   ]
  },
  {
   "cell_type": "markdown",
   "metadata": {},
   "source": [
    "根据2011年的各项属性的频数，选取共同属性中的部分属性来进行分析，选取的属性为：``Agency``、 ``Location`` 、 ``Area Id``、 ``Beat``、 ``Priority``、 ``Incident Type Id``、 ``Incident Type Description``、 ``Event Number ``"
   ]
  },
  {
   "cell_type": "code",
   "execution_count": 4,
   "metadata": {},
   "outputs": [],
   "source": [
    "attribute_seleted = ['Agency', 'Location', 'Area Id', 'Beat', 'Priority', 'Incident Type Id', 'Incident Type Description', 'Event Number']\n",
    "\n",
    "data2011_seleted = data2011[['Agency', 'Location', 'Area Id', 'Beat', 'Priority', 'Incident Type Id', 'Incident Type Description', 'Event Number']]\n",
    "data2012_seleted = data2012[['Agency', 'Location', 'Area Id', 'Beat', 'Priority', 'Incident Type Id', 'Incident Type Description', 'Event Number']]\n",
    "data2013_seleted = data2013[['Agency', 'Location', 'Area Id', 'Beat', 'Priority', 'Incident Type Id', 'Incident Type Description', 'Event Number']]\n",
    "data2014_seleted = data2014[['Agency', 'Location', 'Area Id', 'Beat', 'Priority', 'Incident Type Id', 'Incident Type Description', 'Event Number']]\n",
    "data2015_seleted = data2015[['Agency', 'Location', 'Area Id', 'Beat', 'Priority', 'Incident Type Id', 'Incident Type Description', 'Event Number']]\n",
    "data2016_seleted = data2016[['Agency', 'Location', 'Area Id', 'Beat', 'Priority', 'Incident Type Id', 'Incident Type Description', 'Event Number']]"
   ]
  },
  {
   "cell_type": "markdown",
   "metadata": {},
   "source": [
    "为了方便挖掘更全面的关联规则，把6年以来的所有数据合并起来"
   ]
  },
  {
   "cell_type": "code",
   "execution_count": 5,
   "metadata": {},
   "outputs": [
    {
     "name": "stdout",
     "output_type": "stream",
     "text": [
      "<class 'pandas.core.frame.DataFrame'>\n",
      "RangeIndex: 180016 entries, 0 to 180015\n",
      "Data columns (total 8 columns):\n",
      " #   Column                     Non-Null Count   Dtype  \n",
      "---  ------                     --------------   -----  \n",
      " 0   Agency                     180015 non-null  object \n",
      " 1   Location                   180016 non-null  object \n",
      " 2   Area Id                    179112 non-null  float64\n",
      " 3   Beat                       179496 non-null  object \n",
      " 4   Priority                   180015 non-null  float64\n",
      " 5   Incident Type Id           180015 non-null  object \n",
      " 6   Incident Type Description  180015 non-null  object \n",
      " 7   Event Number               180015 non-null  object \n",
      "dtypes: float64(2), object(6)\n",
      "memory usage: 11.0+ MB\n"
     ]
    }
   ],
   "source": [
    "# data = pd.concat([data2011_seleted, \n",
    "#                   data2012_seleted, \n",
    "#                   data2013_seleted, \n",
    "#                   data2014_seleted, \n",
    "#                   data2015_seleted, \n",
    "#                   data2016_seleted], axis=0)\n",
    "data = pd.concat([data2011_seleted])\n",
    "data.info()"
   ]
  },
  {
   "cell_type": "markdown",
   "metadata": {},
   "source": [
    "针对该数据集进行分析之后，针对缺失的数值，决定采用 ``将缺失部分剔除``"
   ]
  },
  {
   "cell_type": "code",
   "execution_count": 6,
   "metadata": {},
   "outputs": [
    {
     "name": "stdout",
     "output_type": "stream",
     "text": [
      "<class 'pandas.core.frame.DataFrame'>\n",
      "Int64Index: 178777 entries, 0 to 180014\n",
      "Data columns (total 8 columns):\n",
      " #   Column                     Non-Null Count   Dtype  \n",
      "---  ------                     --------------   -----  \n",
      " 0   Agency                     178777 non-null  object \n",
      " 1   Location                   178777 non-null  object \n",
      " 2   Area Id                    178777 non-null  float64\n",
      " 3   Beat                       178777 non-null  object \n",
      " 4   Priority                   178777 non-null  float64\n",
      " 5   Incident Type Id           178777 non-null  object \n",
      " 6   Incident Type Description  178777 non-null  object \n",
      " 7   Event Number               178777 non-null  object \n",
      "dtypes: float64(2), object(6)\n",
      "memory usage: 12.3+ MB\n"
     ]
    }
   ],
   "source": [
    "data_clean = data.dropna()\n",
    "data_clean.info()"
   ]
  },
  {
   "cell_type": "markdown",
   "metadata": {},
   "source": [
    "至此，完成了对数据集进行处理，转换成适合进行关联规则挖掘的形式"
   ]
  },
  {
   "cell_type": "markdown",
   "metadata": {},
   "source": [
    "### 2. Find frequent patterns"
   ]
  },
  {
   "cell_type": "markdown",
   "metadata": {},
   "source": [
    "定义全局的支持度和置信度的阈值"
   ]
  },
  {
   "cell_type": "code",
   "execution_count": 7,
   "metadata": {},
   "outputs": [],
   "source": [
    "min_sup = 0.1\n",
    "min_conf = 0.5"
   ]
  },
  {
   "cell_type": "code",
   "execution_count": 8,
   "metadata": {},
   "outputs": [],
   "source": [
    "# Convert DataFrame to a dictionary store\n",
    "data_dict = []\n",
    "for line in data_clean.values.tolist():\n",
    "    data_set = []\n",
    "    for i, value in enumerate(line):\n",
    "        if not value:\n",
    "            data_set.append((attribute_seleted[i], 'NA'))\n",
    "        else:\n",
    "            data_set.append((attribute_seleted[i], value))\n",
    "    data_dict.append(data_set)"
   ]
  },
  {
   "cell_type": "code",
   "execution_count": 9,
   "metadata": {},
   "outputs": [],
   "source": [
    "# Generate a number of cell candidate item sets\n",
    "def C1_generation(dataset):\n",
    "    C1 = []\n",
    "    progress = ProgressBar()\n",
    "    for data in progress(dataset):\n",
    "        for item in data:\n",
    "            if [item] not in C1:\n",
    "                C1.append([item])\n",
    "    return [frozenset(item) for item in C1]\n",
    "\n",
    "# Filter item sets with support below the threshold\n",
    "def Ck_low_support_filtering(dataset, Ck):\n",
    "    Ck_count = dict()\n",
    "    for data in dataset:\n",
    "        for cand in Ck:\n",
    "            if cand.issubset(data):\n",
    "                if cand not in Ck_count:\n",
    "                    Ck_count[cand] = 1\n",
    "                else:\n",
    "                    Ck_count[cand] += 1\n",
    "\n",
    "    num_items = float(len(dataset))\n",
    "    return_list = []\n",
    "    sup_rata = dict()\n",
    "    \n",
    "    # Filter infrequent itemsets\n",
    "    for key in Ck_count:\n",
    "        support  = Ck_count[key] / num_items\n",
    "        if support >= min_sup:\n",
    "            return_list.insert(0, key)\n",
    "        sup_rata[key] = support\n",
    "    return return_list, sup_rata\n",
    "\n",
    "# check whether the sub set is frequent item \n",
    "def apriori_gen(Fk, k):       \n",
    "    return_list = []\n",
    "    len_Fk = len(Fk)\n",
    "\n",
    "    for i in range(len_Fk):\n",
    "        for j in range(i+1, len_Fk):\n",
    "            # When the k-2nd item is the same, combine the two sets\n",
    "            F1 = list(Fk[i])[:k-2]\n",
    "            F2 = list(Fk[j])[:k-2]\n",
    "            F1.sort()\n",
    "            F2.sort()\n",
    "            if F1 == F2:\n",
    "                return_list.append(Fk[i] | Fk[j])\n",
    "    return return_list\n",
    "\n",
    "\n",
    "# apriori algorithm\n",
    "def apriori(dataset):\n",
    "        C1 = C1_generation(dataset)  # Generate a number of cell candidate item sets\n",
    "        dataset = [set(data) for data in dataset]\n",
    "        F1, sup_rata = Ck_low_support_filtering(dataset, C1)\n",
    "        F = [F1]\n",
    "        k = 2\n",
    "        while len(F[k-2]) > 0:\n",
    "            # When the candidate item element is greater than 2, the subitem set is checked frequently when merging\n",
    "            Ck = apriori_gen(F[k-2], k)\n",
    "            \n",
    "            # Filter item sets with support below the threshold\n",
    "            Fk, support_k = Ck_low_support_filtering(dataset, Ck) \n",
    "            sup_rata.update(support_k)\n",
    "            F.append(Fk)\n",
    "            k += 1\n",
    "        return F, sup_rata"
   ]
  },
  {
   "cell_type": "code",
   "execution_count": 10,
   "metadata": {},
   "outputs": [
    {
     "name": "stderr",
     "output_type": "stream",
     "text": [
      "100% |########################################################################|\n",
      "IOPub data rate exceeded.\n",
      "The notebook server will temporarily stop sending output\n",
      "to the client in order to avoid crashing it.\n",
      "To change this limit, set the config variable\n",
      "`--NotebookApp.iopub_data_rate_limit`.\n",
      "\n",
      "Current values:\n",
      "NotebookApp.iopub_data_rate_limit=1000000.0 (bytes/sec)\n",
      "NotebookApp.rate_limit_window=3.0 (secs)\n",
      "\n"
     ]
    }
   ],
   "source": [
    "# Get frequent sets\n",
    "freq_set, sup_rata = apriori(data_dict)\n",
    "sup_rata_out = sorted(sup_rata.items(), key=lambda d: d[1], reverse=True)\n",
    "print(\"sup_rata \", sup_rata)"
   ]
  },
  {
   "cell_type": "markdown",
   "metadata": {},
   "source": [
    "### 3. Derive the association rules and  calculate their support and confidence"
   ]
  },
  {
   "cell_type": "code",
   "execution_count": 11,
   "metadata": {},
   "outputs": [],
   "source": [
    "# evaluation rule\n",
    "def cal_conf(freq_set, H, sup_rata, strong_rules_list):\n",
    "    prunedH = []\n",
    "    for reasoned_item in H:\n",
    "        sup = sup_rata[freq_set]\n",
    "        conf = sup / sup_rata[freq_set - reasoned_item]\n",
    "        lift = conf / sup_rata[reasoned_item]\n",
    "        jaccard = sup / (sup_rata[freq_set - reasoned_item] + sup_rata[reasoned_item] - sup)\n",
    "        if conf >= min_conf:\n",
    "            strong_rules_list.append((freq_set - reasoned_item, reasoned_item, sup, conf, lift, jaccard))\n",
    "            prunedH.append(reasoned_item)\n",
    "    return prunedH\n",
    "\n",
    "def rules_from_reasoned_item(freq_set, H, sup_rata, strong_rules_list):\n",
    "    \"\"\"\n",
    "    H -> the list of elements that appear at the right of the rule\n",
    "    \"\"\"\n",
    "    m = len(H[0])\n",
    "    if len(freq_set) > (m+1):\n",
    "        Hmp1 = apriori_gen(H, m+1)\n",
    "        Hmp1 = cal_conf(freq_set, Hmp1, sup_rata, strong_rules_list)\n",
    "        if len(Hmp1) > 1:\n",
    "            rules_from_reasoned_item(freq_set, Hmp1, sup_rata, strong_rules_list)"
   ]
  },
  {
   "cell_type": "markdown",
   "metadata": {},
   "source": [
    "基于Apriori算法，首先从一个频繁项集开始，接着创建一个规则列表，其中规则右部只包含一个元素，然后对这些规则进行测试。接下来合并所有的剩余规则列表来创建一个新的规则列表，其中规则右部包含两个元素。这种方法称作分级法。"
   ]
  },
  {
   "cell_type": "code",
   "execution_count": 12,
   "metadata": {},
   "outputs": [],
   "source": [
    "# Generate strong association rules\n",
    "def generate_rules(F, sup_rata):\n",
    "    \"\"\"\n",
    "    :param F: frequent sets\n",
    "    :param sup_rata: asupport for frequent sets\n",
    "    :return: list of strong association rules\n",
    "    \"\"\"\n",
    "    strong_rules_list = []\n",
    "    for i in range(1, len(F)):\n",
    "        for freq_set in F[i]:\n",
    "            H1 = [frozenset([item]) for item in freq_set]\n",
    "            # Here, only get a collection with two or more elements\n",
    "            if i > 1:\n",
    "                rules_from_reasoned_item(freq_set, H1, sup_rata, strong_rules_list)\n",
    "            else:\n",
    "                cal_conf(freq_set, H1, sup_rata, strong_rules_list)\n",
    "    return strong_rules_list"
   ]
  },
  {
   "cell_type": "code",
   "execution_count": 13,
   "metadata": {},
   "outputs": [
    {
     "name": "stdout",
     "output_type": "stream",
     "text": [
      "strong_rules_list  [(frozenset({('Area Id', 3.0)}), frozenset({('Agency', 'OP')}), 0.18262975662417424, 1.0, 1.0, 0.18262975662417424), (frozenset({('Area Id', 2.0)}), frozenset({('Agency', 'OP')}), 0.3756187876516554, 1.0, 1.0, 0.3756187876516554), (frozenset({('Priority', 2.0)}), frozenset({('Agency', 'OP')}), 0.7952533043959793, 1.0, 1.0, 0.7952533043959793), (frozenset({('Area Id', 1.0)}), frozenset({('Agency', 'OP')}), 0.44175145572417035, 1.0, 1.0, 0.44175145572417035), (frozenset({('Priority', 1.0)}), frozenset({('Agency', 'OP')}), 0.2047355084826348, 1.0, 1.0, 0.2047355084826348), (frozenset({('Area Id', 1.0)}), frozenset({('Priority', 2.0)}), 0.35613082219748626, 0.8061791706236151, 1.0137388504609035, 0.40429260858521715), (frozenset({('Area Id', 1.0)}), frozenset({('Priority', 2.0), ('Agency', 'OP')}), 0.35613082219748626, 0.8061791706236151, 1.0137388504609035, 0.40429260858521715), (frozenset({('Agency', 'OP')}), frozenset({('Priority', 2.0)}), 0.7952533043959793, 0.7952533043959793, 1.0, 0.7952533043959793), (frozenset({('Area Id', 2.0)}), frozenset({('Priority', 2.0)}), 0.2960951352802654, 0.7882862759113654, 0.9912392335296165, 0.3384807212737388), (frozenset({('Area Id', 2.0)}), frozenset({('Priority', 2.0), ('Agency', 'OP')}), 0.2960951352802654, 0.7882862759113654, 0.9912392335296165, 0.3384807212737388), (frozenset({('Area Id', 3.0)}), frozenset({('Priority', 2.0)}), 0.14302734691822774, 0.7831546707503829, 0.9847864402716494, 0.1713198394672134), (frozenset({('Area Id', 3.0)}), frozenset({('Priority', 2.0), ('Agency', 'OP')}), 0.14302734691822774, 0.7831546707503829, 0.9847864402716494, 0.1713198394672134)]\n"
     ]
    }
   ],
   "source": [
    "# get strong association rules\n",
    "strong_rules_list = generate_rules(freq_set, sup_rata)\n",
    "strong_rules_list = sorted(strong_rules_list, key=lambda x: x[3], reverse=True)\n",
    "print(\"strong_rules_list \", strong_rules_list)"
   ]
  },
  {
   "cell_type": "code",
   "execution_count": 15,
   "metadata": {},
   "outputs": [],
   "source": [
    "# Save the frequent patterns\n",
    "out_path = './results'\n",
    "freq_set_file = open(os.path.join(out_path, 'frequent_pattern.json'), 'w')\n",
    "for (key, value) in sup_rata_out:\n",
    "    result_dict = {'set': None, 'sup': None}\n",
    "    set_result = list(key)\n",
    "    sup_result = value\n",
    "    if sup_result < min_sup:\n",
    "        continue\n",
    "    result_dict['set'] = set_result\n",
    "    result_dict['sup'] = sup_result\n",
    "    json_str = json.dumps(result_dict, ensure_ascii=False)\n",
    "    freq_set_file.write(json_str + '\\n')\n",
    "freq_set_file.close()\n",
    "\n",
    "# Save the strong association rules\n",
    "rules_file = open(os.path.join(out_path, 'association_rule.json'), 'w')\n",
    "for result in strong_rules_list:\n",
    "    result_dict = {'X_set': None, 'Y_set': None, 'sup': None, 'conf': None, 'lift': None, 'jaccard': None}\n",
    "    X_set, Y_set, sup, conf, lift, jaccard = result\n",
    "    result_dict['X_set'] = list(X_set)\n",
    "    result_dict['Y_set'] = list(Y_set)\n",
    "    result_dict['sup'] = sup\n",
    "    result_dict['conf'] = conf\n",
    "    result_dict['lift'] = lift\n",
    "    result_dict['jaccard'] = jaccard\n",
    "\n",
    "    json_str = json.dumps(result_dict, ensure_ascii=False)\n",
    "    rules_file.write(json_str + '\\n')\n",
    "rules_file.close()"
   ]
  },
  {
   "cell_type": "markdown",
   "metadata": {},
   "source": [
    "### 4. Evaluation rule"
   ]
  },
  {
   "cell_type": "markdown",
   "metadata": {},
   "source": [
    "除了支持度(Sup)和置信度(Conf)两项度量规则之外， 还是实现了Lift和Jaccard，计算公式如下：\n",
    "\n",
    "$Sup(X) = \\frac{count(X)}{count(data)}$\n",
    "\n",
    "$Conf(X \\rightarrow Y) = \\frac{Sup(X \\cup Y)}{Sup(X)}$\n",
    "\n",
    "$Lift(X \\rightarrow Y) = \\frac{Sup(X \\cup Y)}{Sup(X) \\times Sup(Y)}$\n",
    "\n",
    "$Jaccard(X \\rightarrow Y) = \\frac{Sup(X \\cup Y)}{Sup(X) + Sup(Y) - Sup(X \\cup Y)}$"
   ]
  },
  {
   "cell_type": "code",
   "execution_count": 16,
   "metadata": {},
   "outputs": [],
   "source": [
    "# evaluation rule\n",
    "def cal_conf(freq_set, H, sup_rata, strong_rules_list):\n",
    "    prunedH = []\n",
    "    for reasoned_item in H:\n",
    "        sup = sup_rata[freq_set]\n",
    "        conf = sup / sup_rata[freq_set - reasoned_item]\n",
    "        lift = conf / sup_rata[reasoned_item]\n",
    "        jaccard = sup / (sup_rata[freq_set - reasoned_item] + sup_rata[reasoned_item] - sup)\n",
    "        if conf >= min_conf:\n",
    "            strong_rules_list.append((freq_set - reasoned_item, reasoned_item, sup, conf, lift, jaccard))\n",
    "            prunedH.append(reasoned_item)\n",
    "    return prunedH"
   ]
  },
  {
   "cell_type": "markdown",
   "metadata": {},
   "source": [
    "### 5. Visualizatoin"
   ]
  },
  {
   "cell_type": "code",
   "execution_count": 17,
   "metadata": {},
   "outputs": [],
   "source": [
    "def visualization():\n",
    "    with open('./results/frequent_pattern.json') as f:\n",
    "        freq = [json.loads(each) for each in f.readlines()]\n",
    "\n",
    "    with open('./results/association_rule.json') as f:\n",
    "        rules = [json.loads(each) for each in f.readlines()]\n",
    "\n",
    "    freq_sup = [each['sup'] for each in freq]\n",
    "    plt.boxplot(freq_sup,\n",
    "               sym='o',\n",
    "               vert=True,\n",
    "               widths=0.6,\n",
    "               meanline=True)\n",
    "    plt.ylabel('Frequent Pattern')\n",
    "    plt.show()\n",
    "\n",
    "    rules_sup = [each['sup'] for each in rules]\n",
    "    rules_conf = [each['conf'] for each in rules]\n",
    "\n",
    "\n",
    "    plt.scatter(rules_sup, rules_conf, s=20, c='b', marker='.')\n",
    "    plt.xlabel = 'Support'\n",
    "    plt.ylabel = 'Confidence'\n",
    "    plt.legend(loc='best')\n",
    "    plt.show()"
   ]
  },
  {
   "cell_type": "code",
   "execution_count": 18,
   "metadata": {},
   "outputs": [
    {
     "data": {
      "image/png": "[encoded data removed]",
      "text/plain": [
       "<Figure size 432x288 with 1 Axes>"
      ]
     },
     "metadata": {
      "needs_background": "light"
     },
     "output_type": "display_data"
    },
    {
     "name": "stderr",
     "output_type": "stream",
     "text": [
      "No handles with labels found to put in legend.\n"
     ]
    },
    {
     "data": {
      "image/png": "[encoded data removed]",
      "text/plain": [
       "<Figure size 432x288 with 1 Axes>"
      ]
     },
     "metadata": {
      "needs_background": "light"
     },
     "output_type": "display_data"
    }
   ],
   "source": [
    "visualization()"
   ]
  },
  {
   "cell_type": "code",
   "execution_count": 19,
   "metadata": {},
   "outputs": [
    {
     "name": "stdout",
     "output_type": "stream",
     "text": [
      "run time: 01:16:30\n"
     ]
    }
   ],
   "source": [
    "m, s = divmod(time.time()-timekeeping, 60)\n",
    "h, m = divmod(m, 60)\n",
    "print ('run time: %02d:%02d:%02d' % (h, m, s))"
   ]
  },
  {
   "cell_type": "markdown",
   "metadata": {},
   "source": [
    "### 6. Analysis"
   ]
  },
  {
   "cell_type": "markdown",
   "metadata": {},
   "source": [
    " 由于时间关系，本次实验未采用所有数据，仅使用2011年的数据共用时``1:16:30``，挖掘中得到的频繁模式与关联规则会分别保存在``./results/frequent_pattern.json``和``./results/association_rule.json``中"
   ]
  },
  {
   "cell_type": "code",
   "execution_count": 20,
   "metadata": {},
   "outputs": [
    {
     "name": "stdout",
     "output_type": "stream",
     "text": [
      "frequent_pattern.json\n",
      "[{'set': [['Agency', 'OP']], 'sup': 1.0}, {'set': [['Priority', 2.0]], 'sup': 0.7952533043959793}, {'set': [['Priority', 2.0], ['Agency', 'OP']], 'sup': 0.7952533043959793}, {'set': [['Area Id', 1.0]], 'sup': 0.44175145572417035}, {'set': [['Agency', 'OP'], ['Area Id', 1.0]], 'sup': 0.44175145572417035}, {'set': [['Area Id', 2.0]], 'sup': 0.3756187876516554}, {'set': [['Agency', 'OP'], ['Area Id', 2.0]], 'sup': 0.3756187876516554}, {'set': [['Priority', 2.0], ['Area Id', 1.0]], 'sup': 0.35613082219748626}, {'set': [['Priority', 2.0], ['Agency', 'OP'], ['Area Id', 1.0]], 'sup': 0.35613082219748626}, {'set': [['Priority', 2.0], ['Area Id', 2.0]], 'sup': 0.2960951352802654}, {'set': [['Priority', 2.0], ['Agency', 'OP'], ['Area Id', 2.0]], 'sup': 0.2960951352802654}, {'set': [['Priority', 1.0]], 'sup': 0.2047355084826348}, {'set': [['Priority', 1.0], ['Agency', 'OP']], 'sup': 0.2047355084826348}, {'set': [['Area Id', 3.0]], 'sup': 0.18262975662417424}, {'set': [['Area Id', 3.0], ['Agency', 'OP']], 'sup': 0.18262975662417424}, {'set': [['Priority', 2.0], ['Area Id', 3.0]], 'sup': 0.14302734691822774}, {'set': [['Priority', 2.0], ['Area Id', 3.0], ['Agency', 'OP']], 'sup': 0.14302734691822774}]\n",
      "association_rule.json\n",
      "[{'X_set': [['Area Id', 3.0]], 'Y_set': [['Agency', 'OP']], 'sup': 0.18262975662417424, 'conf': 1.0, 'lift': 1.0, 'jaccard': 0.18262975662417424}, {'X_set': [['Area Id', 2.0]], 'Y_set': [['Agency', 'OP']], 'sup': 0.3756187876516554, 'conf': 1.0, 'lift': 1.0, 'jaccard': 0.3756187876516554}, {'X_set': [['Priority', 2.0]], 'Y_set': [['Agency', 'OP']], 'sup': 0.7952533043959793, 'conf': 1.0, 'lift': 1.0, 'jaccard': 0.7952533043959793}, {'X_set': [['Area Id', 1.0]], 'Y_set': [['Agency', 'OP']], 'sup': 0.44175145572417035, 'conf': 1.0, 'lift': 1.0, 'jaccard': 0.44175145572417035}, {'X_set': [['Priority', 1.0]], 'Y_set': [['Agency', 'OP']], 'sup': 0.2047355084826348, 'conf': 1.0, 'lift': 1.0, 'jaccard': 0.2047355084826348}, {'X_set': [['Area Id', 1.0]], 'Y_set': [['Priority', 2.0]], 'sup': 0.35613082219748626, 'conf': 0.8061791706236151, 'lift': 1.0137388504609035, 'jaccard': 0.40429260858521715}, {'X_set': [['Area Id', 1.0]], 'Y_set': [['Priority', 2.0], ['Agency', 'OP']], 'sup': 0.35613082219748626, 'conf': 0.8061791706236151, 'lift': 1.0137388504609035, 'jaccard': 0.40429260858521715}, {'X_set': [['Agency', 'OP']], 'Y_set': [['Priority', 2.0]], 'sup': 0.7952533043959793, 'conf': 0.7952533043959793, 'lift': 1.0, 'jaccard': 0.7952533043959793}, {'X_set': [['Area Id', 2.0]], 'Y_set': [['Priority', 2.0]], 'sup': 0.2960951352802654, 'conf': 0.7882862759113654, 'lift': 0.9912392335296165, 'jaccard': 0.3384807212737388}, {'X_set': [['Area Id', 2.0]], 'Y_set': [['Priority', 2.0], ['Agency', 'OP']], 'sup': 0.2960951352802654, 'conf': 0.7882862759113654, 'lift': 0.9912392335296165, 'jaccard': 0.3384807212737388}, {'X_set': [['Area Id', 3.0]], 'Y_set': [['Priority', 2.0]], 'sup': 0.14302734691822774, 'conf': 0.7831546707503829, 'lift': 0.9847864402716494, 'jaccard': 0.1713198394672134}, {'X_set': [['Area Id', 3.0]], 'Y_set': [['Priority', 2.0], ['Agency', 'OP']], 'sup': 0.14302734691822774, 'conf': 0.7831546707503829, 'lift': 0.9847864402716494, 'jaccard': 0.1713198394672134}]\n"
     ]
    }
   ],
   "source": [
    "with open('./results/frequent_pattern.json') as f:\n",
    "    freq = [json.loads(each) for each in f.readlines()]\n",
    "\n",
    "with open('./results/association_rule.json') as f:\n",
    "    rules = [json.loads(each) for each in f.readlines()]\n",
    "\n",
    "print('frequent_pattern.json')\n",
    "print(freq)\n",
    "\n",
    "print('association_rule.json')\n",
    "print(rules)"
   ]
  },
  {
   "cell_type": "markdown",
   "metadata": {},
   "source": [
    "根据频繁模式可知：\n",
    "- 频繁一项集：\n",
    "    - ``Agency=OP``的支持度是1，体现不出什么有价值的信息，故忽略;\n",
    "    - ``Priority=2.0``的支持度为0.795,也就是说该地区的犯罪等级大多是``2``;\n",
    "    - ``Area Id=1.0``时支持度为0.442，说明在该地区的犯罪事实出现最多，``Area Id=2.0``的支持度为0.375，比``Area Id=1.0``稍微低一些，这说明了该地区的犯罪记录为第二多。\n",
    "- 频繁二项集（除去包含``Agency=OP``的项）：\n",
    "    - ``Priority=2.0 & Area Id=1.0``的支持度最高，为0.356，说明该地区的犯罪等级大多数为``2``\n",
    "\n",
    "根据关联规则可知（除去``Agency==OP``）：\n",
    "- ``Area Id=2.0`` $\\rightarrow$ ``Priority=2.0``的支持度(sup)=0.296，置信度(conf)=0.788，lift=0.991, jaccard=0.338，这说明犯罪的严重性与所在地有着较强联系。"
   ]
  }
 ],
 "metadata": {
  "kernelspec": {
   "display_name": "Python 3",
   "language": "python",
   "name": "python3"
  },
  "language_info": {
   "codemirror_mode": {
    "name": "ipython",
    "version": 3
   },
   "file_extension": ".py",
   "mimetype": "text/x-python",
   "name": "python",
   "nbconvert_exporter": "python",
   "pygments_lexer": "ipython3",
   "version": "3.7.6"
  }
 },
 "nbformat": 4,
 "nbformat_minor": 4
}
